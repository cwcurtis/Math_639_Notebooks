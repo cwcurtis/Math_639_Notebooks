{
 "cells": [
  {
   "cell_type": "code",
   "execution_count": 1,
   "metadata": {
    "collapsed": true
   },
   "outputs": [],
   "source": [
    "import numpy as np\n",
    "import matplotlib.pyplot as plt\n",
    "%matplotlib inline\n",
    "Pi = np.pi"
   ]
  },
  {
   "cell_type": "markdown",
   "metadata": {},
   "source": [
    "Hi All,\n",
    "\n",
    "So it occurs to me that while I can write all the diagrams I like on a board, maybe just showing you how to do things is even better.  So in this notebook, we are going to be focused on solving the Korteweg de-Vries (KdV) equation.  This comes in many forms, but the form we will work with is given by \n",
    "$$\n",
    "u_{t} = u_{xxx} + uu_{x}\n",
    "$$\n",
    "where we suppose we have periodic boundary conditions\n",
    "$$\n",
    "u(x + L, t) = u(x,t)\n",
    "$$\n",
    "and some initial condition \n",
    "$$\n",
    "u(x,0) = u_{0}(x).\n",
    "$$\n",
    "For the sake of argument, let us suppose that $u_{0} \\in C^{\\infty}(S_{L})$, or that the initial condition is an infinitely smooth periodic function with period $L$.\n",
    "\n",
    "\n",
    "So how are we going to numerically solve this problem?  We are going to do so by using the Discrete Fourier Transform (DFT).  However, the first thing we are going to do is rescale our problem.  By this I mean, that we introduce the variable transformation\n",
    "$$\n",
    "\\tilde{x} = \\frac{2\\pi}{L} x. \n",
    "$$\n",
    "The point of this transformation is to rescale the period of the problem to be $2\\pi$, which is a much more natural choice when working with the DFT.  How this works in practice is through the following chain-rule argument.  We have a function $u(x,t)$, but we want a function $u(\\tilde{x},t)$, which means we need to compute\n",
    "$$\n",
    "\\frac{\\partial}{\\partial x} u(\\tilde{x}(x),t) = \\frac{\\partial u}{\\partial \\tilde{x}}\\frac{\\partial \\tilde{x}}{\\partial x} = \\frac{2\\pi}{L} \\frac{\\partial u}{\\partial \\tilde{x}}.\n",
    "$$\n",
    "Note, in the literature, the way you will see this usually written is as \n",
    "$$\n",
    "\\partial_{x} = \\frac{2\\pi}{L}\\partial_{\\tilde{x}},\n",
    "$$\n",
    "where the function being differentiated is implied.  In *simple* cases like this, you can then immediately infer \n",
    "$$\n",
    "\\partial_{x}^{3} = \\left(\\frac{2\\pi}{L}\\right)^{3}\\partial^{3}_{\\tilde{x}}.\n",
    "$$\n",
    "Please note though, if we have a more general transformation, say \n",
    "$$\n",
    "\\tilde{x} = f(x),\n",
    "$$\n",
    "then \n",
    "$$\n",
    "\\partial_{x} = f'(x) \\partial_{\\tilde{x}} = f'(f^{-1}(\\tilde{x}))\\partial_{\\tilde{x}}.\n",
    "$$\n",
    "We then see that \n",
    "$$\n",
    "\\partial^{2}_{x} = f''(x) \\partial_{\\tilde{x}} + (f'(x))^{2}\\partial^{2}_{\\tilde{x}}.\n",
    "$$\n",
    "So variable transformations can get quite complicated in general.  So fair warning here, you cannot always just compute higher derivatives of transformations by raising terms to powers.  \n",
    "\n",
    "\n",
    "Anyway, after we rescale, we get the problem \n",
    "$$\n",
    "u_{t} = \\left(\\frac{2\\pi}{L}\\right)^{3}u_{xxx} + \\frac{2\\pi}{L}uu_{x}\n",
    "$$\n",
    "with\n",
    "$$\n",
    "u(x+2\\pi,t) = u(x,t).\n",
    "$$\n",
    "You will note that I write $x$ instead of $\\tilde{x}$.  As you read through the literature, you will see the phrase, \"after transforming the equation, we drop the tildes\", or something to that effect.  Often, we introduce so many variable changes in a problem that changing the notation is more confusing than just using the same letters over again, even though we are technically in different coordinates.  Now, we introduce both the DFT and Separation of Variables.  First, as we discussed, we introduce a mesh $x_{j}\\in[0,2\\pi]$ where\n",
    "$$\n",
    "x_{j} = j \\frac{2\\pi}{2N} = j\\frac{\\pi}{N}, ~ j = 0, \\cdots, 2N.\n",
    "$$\n",
    "We then use the approximation\n",
    "$$\n",
    "u(x_{j},t) = \\sum_{m=-N+1}^{N} \\hat{u}_{m}(t) e^{imj\\pi/N}.\n",
    "$$\n",
    "Correspondingly we approximate derivatives via the formula\n",
    "$$\n",
    "\\frac{\\partial^{l} u(x,t)}{\\partial x^{l}} = \\sum_{m=-N+1}^{N} \\left(im\\right)^{l}\\hat{u}_{m}(t) e^{imj\\pi/N}.\n",
    "$$\n",
    "\n",
    "\n",
    "Let us see this in action now.  Suppose we have the function\n",
    "$$\n",
    "u(x) = \\sin^{2}(x) + \\cos(x)\\sin^{3}(x).\n",
    "$$\n",
    "How would we use Python and the DFT to compute $u'(x)$?  I would do it the following way."
   ]
  },
  {
   "cell_type": "code",
   "execution_count": 3,
   "metadata": {},
   "outputs": [
    {
     "name": "stderr",
     "output_type": "stream",
     "text": [
      "/usr/local/Anaconda/lib/python2.7/site-packages/ipykernel_launcher.py:9: RuntimeWarning: divide by zero encountered in log10\n",
      "  if __name__ == '__main__':\n"
     ]
    },
    {
     "name": "stdout",
     "output_type": "stream",
     "text": [
      "-14.6535597745\n"
     ]
    },
    {
     "data": {
      "image/png": "[encoded data removed]",
      "text/plain": [
       "<matplotlib.figure.Figure at 0x796b1b5ff650>"
      ]
     },
     "metadata": {},
     "output_type": "display_data"
    }
   ],
   "source": [
    "Nval = 2**3 # DFT's prefer you work in powers of 2.  It's not a strict rule, but a strong recommendation.\n",
    "Xvals = np.linspace(0.,2.*Pi,2*Nval, endpoint = False) # again, I do everything with 2N vs N.  Again, not a strict rule.  \n",
    "Dx = 1j*np.concatenate((np.arange(Nval+1),np.arange(-Nval+1,0,1,)),0) \n",
    "\n",
    "uvals = (np.sin(Xvals))**2. + np.cos(Xvals)*(np.sin(Xvals))**3.\n",
    "Dxuvals = 2.*np.sin(Xvals)*np.cos(Xvals) - (np.sin(Xvals))**4. + 3.*((np.sin(Xvals))**2.)*((np.cos(Xvals))**2.)\n",
    "Dxuapprox = np.fft.ifft( Dx*np.fft.fft(uvals) ).real\n",
    "\n",
    "error = np.max(np.log10(np.abs(Dxuvals-Dxuapprox)))\n",
    "\n",
    "plt.plot(Xvals,Dxuvals)\n",
    "plt.plot(Xvals,Dxuapprox)\n",
    "print error "
   ]
  },
  {
   "cell_type": "markdown",
   "metadata": {},
   "source": [
    "So, as we see, with relatively few modes, i.e $N=2^5=32$, we get errors on the order of $10^{-14}$, or about 14 digits of accuracy using DFTs to compute derivatives.  Note, for ease and portability, I have used numpy's built in forward DFT, i.e. \n",
    "\n",
    "`np.fft.fft`\n",
    "\n",
    "and its built in inverse transform\n",
    "\n",
    "`np.fft.ifft`\n",
    "\n",
    "Moving on then, we now show how to solve the KdV equation in Python. To do this, after taking Fourier-transforms, we can write the above equation in the form\n",
    "$$\n",
    "\\hat{u}_{\\tau} = \\mathcal{L}\\hat{u} + \\mathcal{N}(\\hat{u}),\n",
    "$$\n",
    "where $L$ denotes the linear part of the problem. When we discretize the equation\n",
    "$$\n",
    "\\hat{u}_{n+1} = \\hat{u}_{n} + \\int_{t_{n}}^{t_{n}+\\delta t} \\mathcal{L}\\hat{u} dt + \\int_{t_{n}}^{t_{n}+\\delta t} \\mathcal{N}(\\hat{u})dt,\n",
    "$$\n",
    "we use the Adams-Moulton-2\\* method so that \n",
    "$$\n",
    "\\int_{t_{n}}^{t_{n}+\\delta t} \\mathcal{L}\\hat{u} dt \\approx \\delta t \\left(\\frac{3}{4}L\\hat{u}_{n+1} + \\frac{1}{4}L\\hat{u}_{n-1} \\right).\n",
    "$$\n",
    "The integral of the nonlinearity is approximated used a 4-step Adams-Bashforth method.  This gives us an example of an IMEX (Implicit/Explicit) Method in which we use an implicit time stepper to control the negative numerical impacts of the dispersion while avoiding the overhead of using fully implicit time steppers on the integral of the nonlinearity.  See Fornberg and Driscoll, J. Comp. Phys., 155, 1999 for more details.   "
   ]
  },
  {
   "cell_type": "code",
   "execution_count": 10,
   "metadata": {},
   "outputs": [
    {
     "data": {
      "text/plain": [
       "[<matplotlib.lines.Line2D at 0x7c0850f1aed0>]"
      ]
     },
     "execution_count": 10,
     "metadata": {},
     "output_type": "execute_result"
    },
    {
     "data": {
      "image/png": "[encoded data removed]",
      "text/plain": [
       "<matplotlib.figure.Figure at 0x7c0850e6c090>"
      ]
     },
     "metadata": {},
     "output_type": "display_data"
    }
   ],
   "source": [
    "Lval = 10. # Interval is [-L/2,L/2]\n",
    "Nval = 2**8 # Half the Number of Fourier Modes\n",
    "Xvals = np.linspace(-Lval/2.,Lval/2.,2*Nval,endpoint = False) # Physical Mesh of Points\n",
    "Tf = 5. # Final Time of Simulation\n",
    "\n",
    "Dx = 2.*1j*Pi/Lval*np.concatenate((np.arange(Nval+1),np.arange(-Nval+1,0,1,)),0) #Note the variable transformation.\n",
    "Dx3 = Dx**3. # Here we find the third derivative in x\n",
    "dt = 1e-3 # Time step\n",
    "Nsteps = int(Tf/dt) # Number of time steps\n",
    "Lop = (np.ones(2*Nval)-3.*dt/4.*Dx3)**(-1.)\n",
    "\n",
    "wn = np.zeros(2*Nval,dtype=np.complex128) # Initialize the solution vector and associated parts of multi-step solver.\n",
    "wnm1 = np.zeros(2*Nval,dtype=np.complex128)\n",
    "wnp1 = np.zeros(2*Nval,dtype=np.complex128)\n",
    "\n",
    "nln = np.zeros(2*Nval,dtype=np.complex128)\n",
    "nlnm1 = np.zeros(2*Nval,dtype=np.complex128)\n",
    "nlnm2 = np.zeros(2*Nval,dtype=np.complex128)\n",
    "nlnm3 = np.zeros(2*Nval,dtype=np.complex128)\n",
    "\n",
    "wn[:] = np.fft.fft(2./(np.cosh(Xvals))**2.) # Fourier transform of initial condition\n",
    "wnm1[:] = wn\n",
    "\n",
    "nln[:] = Dx/2.*np.fft.fft( (np.fft.ifft(wn).real)**2. ) # Computation of nonlinearity.  \n",
    "nlnm1[:] = nln\n",
    "nlnm2[:] = nlnm1\n",
    "nlnm3[:] = nlnm2\n",
    "\n",
    "for jj in xrange(Nsteps): # Run the time stepper i.e. how we get from time t_n = ndt to time t_(n+1)\n",
    "    nln[:] = Dx/2.*np.fft.fft( (np.fft.ifft(wn).real)**2. ) # Computation of nonlinearity\n",
    "    wnp1[:] = Lop*(wn + wnm1/3. + dt*(55./24.*nln - 59./24.*nlnm1 + 37./24.*nlnm2 - 3./8.*nlnm3)) - wnm1/3.\n",
    "    \n",
    "    wnm1[:] = wn\n",
    "    wn[:] = wnp1\n",
    "    \n",
    "    nlnm3[:] = nlnm2\n",
    "    nlnm2[:] = nlnm1\n",
    "    nlnm1[:] = nln\n",
    "    \n",
    "wnp1 = np.fft.ifft(wnp1).real\n",
    "plt.plot(Xvals,wnp1)"
   ]
  },
  {
   "cell_type": "markdown",
   "metadata": {},
   "source": [
    "So probably one of the key lines to focus on is how we compute \n",
    "$$\n",
    "\\frac{2\\pi}{2L}\\partial_{x} u^{2}.\n",
    "$$\n",
    "This is done via the line of code \n",
    "\n",
    "`Dx/2.*np.fft.fft( (np.fft.ifft(wn).real)**2. )`\n",
    "\n",
    "Note, that what is going on here is that we are taking the solution at time $t_{n} = n dt$, which is in *frequency space*, using the inverse transform to take us back to *physical space*, computing the product $u^{2}$, and then transforming back to frequency space and then taking the derivative.  After that, we have some details regarding how to implement the time stepper.  Again, all you really need to understand for right now is that the time stepper takes all of the Fourier modes and updates them from time $t_{n}$ to time $t_{n+1}$.    "
   ]
  },
  {
   "cell_type": "code",
   "execution_count": null,
   "metadata": {
    "collapsed": true
   },
   "outputs": [],
   "source": []
  }
 ],
 "metadata": {
  "kernelspec": {
   "display_name": "Python 2",
   "language": "python",
   "name": "python2"
  },
  "language_info": {
   "codemirror_mode": {
    "name": "ipython",
    "version": 2
   },
   "file_extension": ".py",
   "mimetype": "text/x-python",
   "name": "python",
   "nbconvert_exporter": "python",
   "pygments_lexer": "ipython2",
   "version": "2.7.13"
  }
 },
 "nbformat": 4,
 "nbformat_minor": 2
}
