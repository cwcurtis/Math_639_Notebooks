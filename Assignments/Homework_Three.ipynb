{
 "cells": [
  {
   "cell_type": "code",
   "execution_count": 1,
   "metadata": {
    "collapsed": true
   },
   "outputs": [],
   "source": [
    "import numpy as np\n",
    "import matplotlib.pyplot as plt\n",
    "%matplotlib inline"
   ]
  },
  {
   "cell_type": "markdown",
   "metadata": {},
   "source": [
    "All problems are worth 10 points.  \n",
    "\n",
    "Problem 1) Show for a general vector field ${\\bf u}$ that \n",
    "\n",
    "$$\n",
    "{\\bf u}\\cdot \\nabla {\\bf u} = \\frac{1}{2}\\nabla \\left|{\\bf u}\\right|^{2} + {\\bf \\omega}\\times {\\bf u}\n",
    "$$\n",
    "\n",
    "where the vorticity $\\omega = \\nabla \\times {\\bf u}$."
   ]
  },
  {
   "cell_type": "markdown",
   "metadata": {},
   "source": [
    "Problem 2) Show for a planar incompressible and inviscid flow, i.e. one restricted to the $(x,y)$ plane for example, that \n",
    "\n",
    "$$\n",
    "\\frac{D\\omega}{Dt} = 0,\n",
    "$$\n",
    "\n",
    "where $\\omega$ is the scalar magnitude of the vorticity and $D/Dt$ is the material derivative.  What does this tell you about voriticy in planar flows?  "
   ]
  },
  {
   "cell_type": "markdown",
   "metadata": {},
   "source": [
    "Problem 3) Following in the vein of the doublet, if we define the complex function $f(z;\\epsilon)$ where \n",
    "\n",
    "$$\n",
    "f(z;\\epsilon) = \\frac{m}{2\\pi}\\left(\\ln\\left(z+3\\epsilon\\right) - \\ln\\left(z+2\\epsilon\\right) + \\ln\\left(z-3\\epsilon\\right) - \\ln\\left(z-2\\epsilon\\right) \\right),\n",
    "$$\n",
    "\n",
    "and then let the source/sink strengths $m$ go to infinity as $\\epsilon$ goes to zero so that \n",
    "\n",
    "$$\n",
    "\\lim_{\\epsilon \\rightarrow 0} \\frac{5m\\epsilon^{2}}{2\\pi} = \\mu,\n",
    "$$\n",
    "\n",
    "then describe the flow given by the complex function\n",
    "\n",
    "$$\n",
    "f_{q}(z) = \\lim_{\\epsilon\\rightarrow 0}f(z;\\epsilon).\n",
    "$$\n",
    "\n",
    "Provide plots and, using Bernoulli's equation with density normalized to being one and ignoring gravity, a description of the pressure field associated with this plow.  "
   ]
  },
  {
   "cell_type": "markdown",
   "metadata": {},
   "source": [
    "Problem 4) The following function $f_{R}(z)$ where \n",
    "\n",
    "$$\n",
    "f_{R}(z) = U_{\\infty} z + \\frac{m}{2\\pi}\\ln z,\n",
    "$$\n",
    "\n",
    "is known as the _Ranking Leading Edge_.  Describe the flow by providing stream-function plots and qualitative descriptions of said plots.  A _stagnation point_ is a point in the flow where the velocity is zero.  Where are the stagnation points in the Rankine Leading Edge?  Using Bernoulli's equation with the gravity set to zero, can you describe the pressure distribution in this flow?  "
   ]
  },
  {
   "cell_type": "markdown",
   "metadata": {},
   "source": [
    "Problem 5) So following up on integrals over curves, we can readily integrate functions $f(z)$, $z=x+iy$, along contours $C$ in the complex plane $\\mathbb{C}$.  This is done via parametrization in exactly the same way you find any other line integral so that \n",
    "\n",
    "$$\n",
    "\\int_{C} f(z) dz = \\int_{t_{0}}^{t_{f}} f(z) \\frac{dz}{dt} dt = \\int_{t_{0}}^{t_{f}} \\left(\\phi(x(t),y(t)) + i\\psi(x(t),y(t))\\right)\\left(\\frac{dx}{dt} + i \\frac{dy}{dt} \\right) dt\n",
    "$$\n",
    "\n",
    "So, choosing your contour to be $C_{r}$, i.e. the circle of radius $r$ centered at the origin, find \n",
    "\n",
    "$$\n",
    "\\oint_{C_{r}} z^{n} dz, ~ n \\in \\mathbb{Z}^{+}.\n",
    "$$\n",
    "\n",
    "Hint: Use $z = re^{i\\theta}$, and let $\\theta$ be the parameter with which you parameterize the circle.  Based on this result, suppose you have a function $f(z)$ which is analytic around the origin, so that we can expand it in a Taylor series so that \n",
    "\n",
    "$$\n",
    "f(z) = \\sum_{j=0}^{\\infty} \\frac{1}{j!}\\left.\\frac{d^{j}f}{dz^{j}}\\right|_{z=0} z^{j}.\n",
    "$$\n",
    "\n",
    "What is \n",
    "\n",
    "$$\n",
    "\\oint_{C_{r}} f(z) dz \n",
    "$$\n",
    "\n",
    "What does this tell you about integrating analytic functions in closed loops?  \n",
    "\n",
    "Finally, now find \n",
    "\n",
    "$$\n",
    "\\oint_{C_{r}} z^{n} dz, ~ n \\in \\mathbb{Z}^{-},\n",
    "$$\n",
    "\n",
    "i.e. compute the contour integrals for $n$ a negative integer.  There is only one value of $n$ which gives an interesting result.  What is it?  Note, these integrals are actually fine since you are integrating _around_ the singularity, not over it like you would in real-variables.  This kind of trickery gives rise to the general notion that anything that is a difficulty in real variables can be gotten around by going into the complex plane.  "
   ]
  },
  {
   "cell_type": "code",
   "execution_count": null,
   "metadata": {
    "collapsed": true
   },
   "outputs": [],
   "source": []
  }
 ],
 "metadata": {
  "anaconda-cloud": {},
  "kernelspec": {
   "display_name": "Python [Root]",
   "language": "python",
   "name": "Python [Root]"
  },
  "language_info": {
   "codemirror_mode": {
    "name": "ipython",
    "version": 2
   },
   "file_extension": ".py",
   "mimetype": "text/x-python",
   "name": "python",
   "nbconvert_exporter": "python",
   "pygments_lexer": "ipython2",
   "version": "2.7.12"
  }
 },
 "nbformat": 4,
 "nbformat_minor": 2
}
