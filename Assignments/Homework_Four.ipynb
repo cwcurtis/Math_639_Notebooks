{
 "cells": [
  {
   "cell_type": "code",
   "execution_count": 1,
   "metadata": {
    "collapsed": true
   },
   "outputs": [],
   "source": [
    "import numpy as np\n",
    "import matplotlib.pyplot as plt\n",
    "%matplotlib inline"
   ]
  },
  {
   "cell_type": "markdown",
   "metadata": {},
   "source": [
    "All problems are worth 10 points.  "
   ]
  },
  {
   "cell_type": "markdown",
   "metadata": {},
   "source": [
    "Problem 1) So, suppose we have a linear advection wave model, but now the wave speed varies in space, i.e. \n",
    "$$\n",
    "\\eta_{t} + c(x) \\eta_{x} = 0, ~ \\eta(x,0) = \\eta_{0}(x).\n",
    "$$\n",
    "\n",
    "To solve this, we briefly introduce the method of characteristics.  The idea here is to imagine everything can be described via collections of essentially Lagrangian paths $x = x(t;x_{0})$.  Thus, we suppose our solution $\\eta(x,t) = \\eta(x(t;x_{0}),t)$, which means that \n",
    "\n",
    "$$\n",
    "\\frac{d\\eta}{dt} = \\eta_{x}\\frac{dx}{dt} + \\eta_{t}.\n",
    "$$\n",
    "\n",
    "Thus, using our equation above, we see that along characteristics, we have that \n",
    "\n",
    "$$\n",
    "\\frac{dx}{dt} = c(x), ~ \\frac{d\\eta}{dt} = 0.\n",
    "$$\n",
    "\n",
    "For $c(x) = \\sin(x)$ and $c(x) = 1+x^2$, plot the characteristic curves in an $(x,t)$-plane and describe the impact of the varying speed on the propagation of an arbitrary initial condition. "
   ]
  },
  {
   "cell_type": "markdown",
   "metadata": {},
   "source": [
    "Problem 2) In the free-surface problem, one of the nonlinear equations at the surface is \n",
    "\n",
    "$$\n",
    "\\eta_{t} = -\\eta_{x}\\phi_{x} -\\eta_{y}\\phi_{y} + \\phi_{z}, ~ z = \\eta(x,y,t).\n",
    "$$\n",
    "\n",
    "Show that this can be re-written as \n",
    "\n",
    "$$\n",
    "\\eta_{t} = \\sqrt{1 + \\left|\\left|\\nabla \\eta\\right|\\right|^{2}}\\partial_{\\hat{{\\bf n}}}\\phi,\n",
    "$$\n",
    "\n",
    "where $\\partial_{\\hat{{\\bf n}}}$ denotes the normal derivative to the surface $F(x,y,z,t) = z - \\eta(x,y,t) = 0$.  "
   ]
  },
  {
   "cell_type": "markdown",
   "metadata": {},
   "source": [
    "Problem 3) For the free-surface problem without surface tension, show that the quantity\n",
    "\n",
    "$$\n",
    "H(t) = \\frac{1}{2}\\int_{\\mathbb{R}^{2}}\\int_{-h}^{\\eta(x,y,t)} \\left|\\nabla \\phi \\right|^{2}dz dx dy + \\frac{g}{2}\\int_{\\mathbb{R}^{2}}\\eta^{2}(x,y,t) dx dy\n",
    "$$\n",
    "\n",
    "is a constant in time.  Note, some basic facts about differentiating integrals from advanced calc will be necessary.  You will also need to use Green's first identity to deal with the term\n",
    "\n",
    "$$\n",
    "\\int_{\\mathbb{R}^{2}}\\int_{-h}^{\\eta(x,y,t)}  \\nabla \\phi \\cdot \\nabla \\phi_{t} dz dx dy.\n",
    "$$"
   ]
  },
  {
   "cell_type": "markdown",
   "metadata": {},
   "source": [
    "Problem 4) For integrals of the form \n",
    "\n",
    "$$\n",
    "I(t) = \\int_{a}^{b} f(k) e^{i\\omega(k)t}dk,\n",
    "$$\n",
    "\n",
    "the Method of Stationary Phase gave us a means of approximating integrals of this type when in the interval one has a critical point of the phase, i.e. a point $k_{\\ast}\\in(a,b)$ such that $\\omega'(k_{\\ast})=0$.  We tacitly assumed that $\\omega''(k_{\\ast})\\neq 0$.  Derive an approximation formula supposing that $\\omega'(k_{\\ast})=\\omega''(k_{\\ast})=0$, but $\\omega'''(k_{\\ast})\\neq0$.  Note, you will need to use\n",
    "\n",
    "$$\n",
    "\\int_{\\mathbb{R}}e^{ik^{3}}dk = 2\\int_{0}^{\\infty}e^{-k^{3}}dk = 2\\tilde{c},\n",
    "$$\n",
    "\n",
    "since that last integral is not readily computable, at least not directly.  "
   ]
  },
  {
   "cell_type": "code",
   "execution_count": null,
   "metadata": {
    "collapsed": true
   },
   "outputs": [],
   "source": []
  }
 ],
 "metadata": {
  "kernelspec": {
   "display_name": "Python [Root]",
   "language": "python",
   "name": "Python [Root]"
  },
  "language_info": {
   "codemirror_mode": {
    "name": "ipython",
    "version": 2
   },
   "file_extension": ".py",
   "mimetype": "text/x-python",
   "name": "python",
   "nbconvert_exporter": "python",
   "pygments_lexer": "ipython2",
   "version": "2.7.12"
  }
 },
 "nbformat": 4,
 "nbformat_minor": 0
}
