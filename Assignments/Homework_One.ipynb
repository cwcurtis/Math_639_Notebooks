{
 "cells": [
  {
   "cell_type": "code",
   "execution_count": 1,
   "metadata": {
    "collapsed": true
   },
   "outputs": [],
   "source": [
    "import numpy as np\n",
    "import matplotlib.pyplot as plt\n",
    "%matplotlib inline"
   ]
  },
  {
   "cell_type": "markdown",
   "metadata": {},
   "source": [
    "## Homework 1\n",
    "\n",
    "1) For the vector vield \n",
    "\n",
    "$$\n",
    "{\\bf F} = \\left( \\cos(2t),\\sin(t) \\right)\n",
    "$$\n",
    "\n",
    "find \n",
    "\n",
    "$$\n",
    "\\int_{C} {\\bf F}\\cdot \\hat{{\\bf n}} ds, ~ \\int_{C} {\\bf F}\\cdot \\hat{{\\bf t}} ds \n",
    "$$\n",
    "\n",
    "where C is the contour between $(-1,1)$ and $(1,1)$ along the parabola $y=x^{2}$."
   ]
  },
  {
   "cell_type": "code",
   "execution_count": null,
   "metadata": {
    "collapsed": true
   },
   "outputs": [],
   "source": []
  },
  {
   "cell_type": "markdown",
   "metadata": {},
   "source": [
    "2) Using the spherical coordinate transformation\n",
    "\n",
    "$$\n",
    "x = \\rho \\cos(\\theta)\\sin(\\phi), ~ y = \\rho\\sin(\\theta)\\sin(\\phi), ~ z = \\rho \\cos(\\phi),\n",
    "$$\n",
    "\n",
    "find the Laplacian $\\Delta = \\partial_{x}^{2} + \\partial_{y}^{2} + \\partial_{z}^{2}$ in spherical coordinates.  "
   ]
  },
  {
   "cell_type": "code",
   "execution_count": null,
   "metadata": {
    "collapsed": true
   },
   "outputs": [],
   "source": []
  },
  {
   "cell_type": "markdown",
   "metadata": {},
   "source": [
    "3) Using polar coordinates, starting with $\\hat{{\\bf i}}$ and $\\hat{{\\bf j}}$, we can define the associated polar vectors\n",
    "\n",
    "\\begin{align}\n",
    "\\hat{{\\bf e}}_{r} = & \\cos(\\theta)\\hat{{\\bf i}} + \\sin(\\theta)\\hat{{\\bf j}}\\\\\n",
    "\\hat{{\\bf e}}_{\\theta} = & -\\sin(\\theta)\\hat{{\\bf i}} + \\cos(\\theta)\\hat{{\\bf j}}\n",
    "\\end{align}\n",
    "\n",
    "Show that for a parametrized curve \n",
    "\n",
    "$$\n",
    "{\\bf r}(t) = x(t)\\hat{{\\bf i}} + y(t) \\hat{{\\bf j}}\n",
    "$$\n",
    "\n",
    "using $x(t) = r(t)\\cos(\\theta(t))$ and $y(t) = r(t)\\sin(\\theta(t))$, that\n",
    "\n",
    "\\begin{align}\n",
    "{\\bf r}(t) = & r(t) \\hat{{\\bf e}}_{r}\\\\\n",
    "{\\bf v}(t) = & \\dot{r}\\hat{{\\bf e}}_{r} + r\\dot{\\theta}\\hat{{\\bf e}}_{\\theta}\\\\\n",
    "{\\bf a}(t) = & \\left(\\ddot{r}-r\\dot{\\theta}^{2}\\right)\\hat{{\\bf e}}_{r} + \\left(2\\dot{r}\\dot{\\theta}+r\\ddot{\\theta}\\right)\\hat{{\\bf e}}_{\\theta}\n",
    "\\end{align}\n",
    "\n",
    "where ${\\bf v} = \\dot{{\\bf r}}$ and ${\\bf a} = \\dot{{\\bf v}}$.  Using this show that if the angular component of the acceleration is zero, i.e. ${\\bf a}$ depends only on $\\hat{{\\bf e}}_{r}$, then the motion is constrained by the identity\n",
    "\n",
    "$$\n",
    "\\dot{\\theta}r^{2} = c\n",
    "$$\n",
    "\n",
    "where $c$ is a constant.  "
   ]
  },
  {
   "cell_type": "code",
   "execution_count": null,
   "metadata": {
    "collapsed": true
   },
   "outputs": [],
   "source": []
  }
 ],
 "metadata": {
  "kernelspec": {
   "display_name": "Python 2",
   "language": "python",
   "name": "python2"
  },
  "language_info": {
   "codemirror_mode": {
    "name": "ipython",
    "version": 2
   },
   "file_extension": ".py",
   "mimetype": "text/x-python",
   "name": "python",
   "nbconvert_exporter": "python",
   "pygments_lexer": "ipython2",
   "version": "2.7.13"
  }
 },
 "nbformat": 4,
 "nbformat_minor": 2
}
