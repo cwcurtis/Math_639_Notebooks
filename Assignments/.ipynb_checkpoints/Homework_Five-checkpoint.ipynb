{
 "cells": [
  {
   "cell_type": "code",
   "execution_count": 1,
   "metadata": {
    "collapsed": true
   },
   "outputs": [],
   "source": [
    "import numpy as np\n",
    "import matplotlib.pyplot as plt\n",
    "%matplotlib inline"
   ]
  },
  {
   "cell_type": "markdown",
   "metadata": {},
   "source": [
    "Using the code in the notes as a model, numerically solve the KP2 equation\n",
    "$$\n",
    "u_{\\tau} = -\\frac{1}{6}\\partial_{\\xi}^{3}u - \\frac{3}{4}\\partial_{\\xi}u^{2} - \\frac{1}{2}\\partial_{\\xi}^{-1}\\partial_{y}^{2}u,\n",
    "$$\n",
    "over a periodic domain given by $[-L,L]\\times[-L,L]$ for the initial condition \n",
    "$$\n",
    "u(\\xi,y,0) = \\sin\\left(\\frac{\\pi}{L}\\xi\\right)\\cos^{3}\\left(\\frac{\\pi}{L}y\\right).\n",
    "$$\n",
    "However, instead of an IMEX scheme, use a RK-4 scheme with an integrating factor.  Writing the Fourier-transformed version of the equation as \n",
    "$$\n",
    "\\hat{u}_{\\tau} = \\mathcal{L}\\hat{u} + \\mathcal{N}(\\hat{u}),\n",
    "$$\n",
    "this means we first introduce the transformation\n",
    "$$\n",
    "\\hat{u} = e^{\\mathcal{L}\\tau}\\tilde{u},\n",
    "$$\n",
    "so that we perform the RK-4 method on \n",
    "$$\n",
    "\\tilde{u}_{\\tau} = e^{-\\mathcal{L}\\tau}\\mathcal{N}\\left(e^{\\mathcal{L}\\tau}\\tilde{u}\\right).\n",
    "$$\n",
    "Note, the tensor form used throughout the numerical solution of the KP2 equation makes $\\mathcal{L}$ an array, so finding the exponential in time is straightforward.  \n",
    "\n",
    "Now, as discussed in class, the integrating-factor based RK-4 scheme is not implemented in the most straightforward of ways.  To wit, we are always trying to really find $\\hat{u}_{n+1}$ from $\\hat{u}_{n}$.  So\n",
    "\n",
    "1.) Describe the implementation of an efficient version of the RK-4 with integrating factor scheme.  See Trefethen's book on Pseudospectral methods, Ch. 9 for hints and guidance.  \n",
    "\n",
    "2.) Determine, using relative measurments of output, how the accuracy of your method varies with choice of the number of modes $K$ and the time step $\\delta t$.  Try to find the treshhold of stability for your method, which is to say, what is the largest time step for a given choice of $K$ that still gives you a resonable result for a reasonable length of simulation time.  \n",
    "\n",
    "3.) Now, run and compare to the results from the IMEX scheme in the notes.  The big issue to address here is which method lets you take the larger time step while still maintaining a relatively high level of accuracy.  Here you will need to make relative comparisons between the two methods.  \n"
   ]
  },
  {
   "cell_type": "code",
   "execution_count": null,
   "metadata": {
    "collapsed": true
   },
   "outputs": [],
   "source": []
  }
 ],
 "metadata": {
  "kernelspec": {
   "display_name": "Python 2",
   "language": "python",
   "name": "python2"
  },
  "language_info": {
   "codemirror_mode": {
    "name": "ipython",
    "version": 2
   },
   "file_extension": ".py",
   "mimetype": "text/x-python",
   "name": "python",
   "nbconvert_exporter": "python",
   "pygments_lexer": "ipython2",
   "version": "2.7.13"
  }
 },
 "nbformat": 4,
 "nbformat_minor": 2
}
